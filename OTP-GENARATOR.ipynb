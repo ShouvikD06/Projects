{
 "cells": [
  {
   "cell_type": "code",
   "execution_count": 22,
   "id": "b60ac1ab-7bbe-4a83-8d4e-777982891058",
   "metadata": {},
   "outputs": [
    {
     "name": "stdin",
     "output_type": "stream",
     "text": [
      "Enter your choice between send/SEND or S/s:  s\n"
     ]
    },
    {
     "name": "stdout",
     "output_type": "stream",
     "text": [
      "YOUR OTP IS 0358\n"
     ]
    }
   ],
   "source": [
    "import random\n",
    "import string\n",
    "\n",
    "def gen_otp(length):\n",
    "    p = string.digits\n",
    "    otp = ''.join(random.choice(p) for _ in range(length))\n",
    "    return otp\n",
    "\n",
    "while True:\n",
    "    \n",
    "    c = input(\"Enter your choice between send/SEND or S/s: \").strip().lower()\n",
    "\n",
    "    if c == 'send' or c == 's':\n",
    "        i = gen_otp(4)\n",
    "        print(\"YOUR OTP IS\", i)\n",
    "        break\n",
    "    else:\n",
    "        print(\"WRONG CHOICE. Please enter 'send' to receive the OTP.\")\n"
   ]
  },
  {
   "cell_type": "code",
   "execution_count": null,
   "id": "8b28d7c4-52aa-4c01-bcf4-4fb153c9e9c1",
   "metadata": {},
   "outputs": [],
   "source": []
  }
 ],
 "metadata": {
  "kernelspec": {
   "display_name": "Python 3 (ipykernel)",
   "language": "python",
   "name": "python3"
  },
  "language_info": {
   "codemirror_mode": {
    "name": "ipython",
    "version": 3
   },
   "file_extension": ".py",
   "mimetype": "text/x-python",
   "name": "python",
   "nbconvert_exporter": "python",
   "pygments_lexer": "ipython3",
   "version": "3.10.12"
  }
 },
 "nbformat": 4,
 "nbformat_minor": 5
}
