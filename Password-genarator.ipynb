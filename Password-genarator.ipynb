{
 "cells": [
  {
   "cell_type": "code",
   "execution_count": 66,
   "id": "5ca32c57-9776-4126-8c74-525ff9f4de8b",
   "metadata": {},
   "outputs": [
    {
     "name": "stdin",
     "output_type": "stream",
     "text": [
      "Enter the length of the Password :  8\n"
     ]
    },
    {
     "name": "stdout",
     "output_type": "stream",
     "text": [
      "Random Password is  []\n"
     ]
    }
   ],
   "source": [
    "import string\n",
    "import random\n",
    "\n",
    "l=int(input(\"Enter the length of the Password : \"))\n",
    "\n",
    "def passwdgen(l):\n",
    "    ch = string.ascii_letters + string.digits + string.punctuation\n",
    "    passswd=''.join(random.choice(ch)for _ in range (l))\n",
    "\n",
    "    return passwd\n",
    "\n",
    "\n",
    "password = passwdgen(l)\n",
    "print(\"Random Password is \",password)\n"
   ]
  },
  {
   "cell_type": "code",
   "execution_count": 65,
   "id": "5c6a1761-9e52-4369-95ed-0eb00f203245",
   "metadata": {},
   "outputs": [
    {
     "name": "stdin",
     "output_type": "stream",
     "text": [
      "Enter the length of the Password:  8\n"
     ]
    },
    {
     "name": "stdout",
     "output_type": "stream",
     "text": [
      "Random Password is: fWr'aF64\n"
     ]
    }
   ],
   "source": [
    "import string\n",
    "import random\n",
    "\n",
    "# Get the length of the password from the user\n",
    "l = int(input(\"Enter the length of the Password: \"))\n",
    "\n",
    "def passwdgen(length):\n",
    "    # Define the character set\n",
    "    ch = string.ascii_letters + string.digits + string.punctuation\n",
    "    \n",
    "    # Generate the password\n",
    "    passwd = ''.join(random.choice(ch) for _ in range(length))\n",
    "    \n",
    "    return passwd\n",
    "\n",
    "# Generate and print the password\n",
    "password = passwdgen(l)\n",
    "print(\"Random Password is:\", password)\n",
    "\n"
   ]
  },
  {
   "cell_type": "code",
   "execution_count": null,
   "id": "4413a95a-88ad-4502-b9db-f295d5ff0b5e",
   "metadata": {},
   "outputs": [],
   "source": []
  }
 ],
 "metadata": {
  "kernelspec": {
   "display_name": "Python 3 (ipykernel)",
   "language": "python",
   "name": "python3"
  },
  "language_info": {
   "codemirror_mode": {
    "name": "ipython",
    "version": 3
   },
   "file_extension": ".py",
   "mimetype": "text/x-python",
   "name": "python",
   "nbconvert_exporter": "python",
   "pygments_lexer": "ipython3",
   "version": "3.10.12"
  }
 },
 "nbformat": 4,
 "nbformat_minor": 5
}
